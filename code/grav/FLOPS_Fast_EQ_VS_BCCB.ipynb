{
 "cells": [
  {
   "cell_type": "code",
   "execution_count": 1,
   "metadata": {},
   "outputs": [],
   "source": [
    "import numpy as np\n",
    "from timeit import default_timer as time\n",
    "from matplotlib import pyplot as plt"
   ]
  },
  {
   "cell_type": "markdown",
   "metadata": {},
   "source": [
    "## FLOPS - Fast equivalent layer Vs BCCB"
   ]
  },
  {
   "cell_type": "code",
   "execution_count": 2,
   "metadata": {},
   "outputs": [],
   "source": [
    "N = np.arange(10000.,1000000,10000)\n",
    "it = 50\n",
    "old = it*(3*N + 2*N**2)"
   ]
  },
  {
   "cell_type": "code",
   "execution_count": 3,
   "metadata": {},
   "outputs": [],
   "source": [
    "k = 5.\n",
    "new = it*(27*N + k*8*N*np.log2(4*N))"
   ]
  },
  {
   "cell_type": "code",
   "execution_count": 11,
   "metadata": {},
   "outputs": [
    {
     "data": {
      "image/png": "[encoded data removed]",
      "text/plain": [
       "<Figure size 311.76x187.056 with 1 Axes>"
      ]
     },
     "metadata": {
      "needs_background": "light"
     },
     "output_type": "display_data"
    }
   ],
   "source": [
    "#width = 10.\n",
    "#height = 6.\n",
    "#height_per_width = height/width\n",
    "plt.figure(figsize=(4.33,height_per_width*4.33))\n",
    "#plt.figure(figsize=(10, 6))\n",
    "\n",
    "#plt.semilogy(N, old, 'ko:', alpha=1, markersize=4, label='Siqueira et al')\n",
    "plt.plot(N, old, 'ko:', alpha=1, markersize=4, label='Siqueira et al')\n",
    "#plt.semilogy(N, new, 'b^--', alpha=1, markersize=4, label='Our method')\n",
    "plt.plot(N, new, 'b^--', alpha=1, markersize=4, label='Our method')\n",
    "#plt.axis('scaled')\n",
    "#plt.xlim(np.min(N)-1,np.max(N)+1)\n",
    "plt.yscale('log')\n",
    "#plt.xscale('log')\n",
    "#plt.ylim(10**7,10**15)\n",
    "plt.xticks(fontsize=7)\n",
    "plt.yticks(fontsize=7)\n",
    "plt.xlabel('Number of observations', fontsize=8)\n",
    "plt.ylabel('Floating points', fontsize=8)\n",
    "plt.grid()\n",
    "plt.tight_layout(True)\n",
    "plt.legend(loc='upper left', fontsize=7)\n",
    "plt.savefig('../manuscript/Fig/Figure2.png', dpi= 1200)\n",
    "plt.show()"
   ]
  },
  {
   "cell_type": "code",
   "execution_count": null,
   "metadata": {},
   "outputs": [],
   "source": []
  }
 ],
 "metadata": {
  "anaconda-cloud": {},
  "kernelspec": {
   "display_name": "Python 3 (ipykernel)",
   "language": "python",
   "name": "python3"
  },
  "language_info": {
   "codemirror_mode": {
    "name": "ipython",
    "version": 3
   },
   "file_extension": ".py",
   "mimetype": "text/x-python",
   "name": "python",
   "nbconvert_exporter": "python",
   "pygments_lexer": "ipython3",
   "version": "3.9.13"
  }
 },
 "nbformat": 4,
 "nbformat_minor": 1
}
